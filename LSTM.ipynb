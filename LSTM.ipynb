{
 "cells": [
  {
   "cell_type": "markdown",
   "metadata": {},
   "source": [
    "### Stock Price Prediction Using LSTM"
   ]
  },
  {
   "cell_type": "code",
   "execution_count": 1,
   "metadata": {},
   "outputs": [],
   "source": [
    "import pandas as pd\n",
    "import numpy as np\n",
    "import matplotlib.pyplot as plt\n",
    "%matplotlib inline"
   ]
  },
  {
   "cell_type": "code",
   "execution_count": 2,
   "metadata": {},
   "outputs": [],
   "source": [
    "df=pd.read_csv('AXISBANK.csv')"
   ]
  },
  {
   "cell_type": "code",
   "execution_count": 3,
   "metadata": {},
   "outputs": [
    {
     "data": {
      "text/html": [
       "<div>\n",
       "<style scoped>\n",
       "    .dataframe tbody tr th:only-of-type {\n",
       "        vertical-align: middle;\n",
       "    }\n",
       "\n",
       "    .dataframe tbody tr th {\n",
       "        vertical-align: top;\n",
       "    }\n",
       "\n",
       "    .dataframe thead th {\n",
       "        text-align: right;\n",
       "    }\n",
       "</style>\n",
       "<table border=\"1\" class=\"dataframe\">\n",
       "  <thead>\n",
       "    <tr style=\"text-align: right;\">\n",
       "      <th></th>\n",
       "      <th>Date</th>\n",
       "      <th>Symbol</th>\n",
       "      <th>Series</th>\n",
       "      <th>Prev Close</th>\n",
       "      <th>Open</th>\n",
       "      <th>High</th>\n",
       "      <th>Low</th>\n",
       "      <th>Last</th>\n",
       "      <th>Close</th>\n",
       "      <th>VWAP</th>\n",
       "      <th>Volume</th>\n",
       "      <th>Turnover</th>\n",
       "      <th>Trades</th>\n",
       "      <th>Deliverable Volume</th>\n",
       "      <th>%Deliverble</th>\n",
       "    </tr>\n",
       "  </thead>\n",
       "  <tbody>\n",
       "    <tr>\n",
       "      <th>0</th>\n",
       "      <td>31-03-2016</td>\n",
       "      <td>AXISBANK</td>\n",
       "      <td>EQ</td>\n",
       "      <td>444.25</td>\n",
       "      <td>443.7</td>\n",
       "      <td>449.00</td>\n",
       "      <td>438.20</td>\n",
       "      <td>445.5</td>\n",
       "      <td>444.15</td>\n",
       "      <td>443.86</td>\n",
       "      <td>12671936</td>\n",
       "      <td>5.624600e+14</td>\n",
       "      <td>249206</td>\n",
       "      <td>8049354</td>\n",
       "      <td>0.6352</td>\n",
       "    </tr>\n",
       "    <tr>\n",
       "      <th>1</th>\n",
       "      <td>01-04-2016</td>\n",
       "      <td>AXISBANK</td>\n",
       "      <td>EQ</td>\n",
       "      <td>444.15</td>\n",
       "      <td>440.9</td>\n",
       "      <td>452.00</td>\n",
       "      <td>440.05</td>\n",
       "      <td>449.6</td>\n",
       "      <td>449.90</td>\n",
       "      <td>447.47</td>\n",
       "      <td>8827751</td>\n",
       "      <td>3.950180e+14</td>\n",
       "      <td>113540</td>\n",
       "      <td>4637271</td>\n",
       "      <td>0.5253</td>\n",
       "    </tr>\n",
       "    <tr>\n",
       "      <th>2</th>\n",
       "      <td>04-04-2016</td>\n",
       "      <td>AXISBANK</td>\n",
       "      <td>EQ</td>\n",
       "      <td>449.90</td>\n",
       "      <td>451.5</td>\n",
       "      <td>451.55</td>\n",
       "      <td>442.10</td>\n",
       "      <td>445.2</td>\n",
       "      <td>444.75</td>\n",
       "      <td>445.86</td>\n",
       "      <td>5347581</td>\n",
       "      <td>2.384300e+14</td>\n",
       "      <td>71535</td>\n",
       "      <td>2743497</td>\n",
       "      <td>0.5130</td>\n",
       "    </tr>\n",
       "    <tr>\n",
       "      <th>3</th>\n",
       "      <td>05-04-2016</td>\n",
       "      <td>AXISBANK</td>\n",
       "      <td>EQ</td>\n",
       "      <td>444.75</td>\n",
       "      <td>443.4</td>\n",
       "      <td>449.50</td>\n",
       "      <td>431.00</td>\n",
       "      <td>431.3</td>\n",
       "      <td>432.60</td>\n",
       "      <td>439.70</td>\n",
       "      <td>12100258</td>\n",
       "      <td>5.320490e+14</td>\n",
       "      <td>150725</td>\n",
       "      <td>5251685</td>\n",
       "      <td>0.4340</td>\n",
       "    </tr>\n",
       "    <tr>\n",
       "      <th>4</th>\n",
       "      <td>06-04-2016</td>\n",
       "      <td>AXISBANK</td>\n",
       "      <td>EQ</td>\n",
       "      <td>432.60</td>\n",
       "      <td>433.3</td>\n",
       "      <td>436.30</td>\n",
       "      <td>423.10</td>\n",
       "      <td>427.0</td>\n",
       "      <td>424.65</td>\n",
       "      <td>427.39</td>\n",
       "      <td>7457831</td>\n",
       "      <td>3.187400e+14</td>\n",
       "      <td>80896</td>\n",
       "      <td>3650425</td>\n",
       "      <td>0.4895</td>\n",
       "    </tr>\n",
       "  </tbody>\n",
       "</table>\n",
       "</div>"
      ],
      "text/plain": [
       "         Date    Symbol Series  Prev Close   Open    High     Low   Last  \\\n",
       "0  31-03-2016  AXISBANK     EQ      444.25  443.7  449.00  438.20  445.5   \n",
       "1  01-04-2016  AXISBANK     EQ      444.15  440.9  452.00  440.05  449.6   \n",
       "2  04-04-2016  AXISBANK     EQ      449.90  451.5  451.55  442.10  445.2   \n",
       "3  05-04-2016  AXISBANK     EQ      444.75  443.4  449.50  431.00  431.3   \n",
       "4  06-04-2016  AXISBANK     EQ      432.60  433.3  436.30  423.10  427.0   \n",
       "\n",
       "    Close    VWAP    Volume      Turnover  Trades  Deliverable Volume  \\\n",
       "0  444.15  443.86  12671936  5.624600e+14  249206             8049354   \n",
       "1  449.90  447.47   8827751  3.950180e+14  113540             4637271   \n",
       "2  444.75  445.86   5347581  2.384300e+14   71535             2743497   \n",
       "3  432.60  439.70  12100258  5.320490e+14  150725             5251685   \n",
       "4  424.65  427.39   7457831  3.187400e+14   80896             3650425   \n",
       "\n",
       "   %Deliverble  \n",
       "0       0.6352  \n",
       "1       0.5253  \n",
       "2       0.5130  \n",
       "3       0.4340  \n",
       "4       0.4895  "
      ]
     },
     "execution_count": 3,
     "metadata": {},
     "output_type": "execute_result"
    }
   ],
   "source": [
    "df.head()"
   ]
  },
  {
   "cell_type": "code",
   "execution_count": 4,
   "metadata": {},
   "outputs": [],
   "source": [
    "# extracting data from column \"Close\" into new dataframe\n",
    "df1=df.reset_index()['Close']"
   ]
  },
  {
   "cell_type": "code",
   "execution_count": 5,
   "metadata": {},
   "outputs": [
    {
     "data": {
      "text/plain": [
       "[<matplotlib.lines.Line2D at 0x1c3515c3f10>]"
      ]
     },
     "execution_count": 5,
     "metadata": {},
     "output_type": "execute_result"
    },
    {
     "data": {
      "image/png": "[encoded data removed]",
      "text/plain": [
       "<Figure size 432x288 with 1 Axes>"
      ]
     },
     "metadata": {
      "needs_background": "light"
     },
     "output_type": "display_data"
    }
   ],
   "source": [
    "plt.plot(df1)"
   ]
  },
  {
   "cell_type": "code",
   "execution_count": 6,
   "metadata": {},
   "outputs": [],
   "source": [
    "# LSTM are sensitive to the scale of the data. so we apply MinMax scaler to scale the values in between 0 and 1\n",
    "from sklearn.preprocessing import MinMaxScaler\n",
    "# To scale the values in between 0 and 1\n",
    "sc = MinMaxScaler(feature_range=(0,1)) \n",
    "df1=sc.fit_transform(np.array(df1).reshape(-1,1))"
   ]
  },
  {
   "cell_type": "code",
   "execution_count": 7,
   "metadata": {},
   "outputs": [
    {
     "name": "stdout",
     "output_type": "stream",
     "text": [
      "[[0.27133648]\n",
      " [0.28240162]\n",
      " [0.2724911 ]\n",
      " ...\n",
      " [0.77937073]\n",
      " [0.80101992]\n",
      " [0.79236024]]\n"
     ]
    }
   ],
   "source": [
    "print(df1)"
   ]
  },
  {
   "cell_type": "code",
   "execution_count": 8,
   "metadata": {},
   "outputs": [],
   "source": [
    "#splitting dataset into train and test split\n",
    "train_size=int(len(df1)*0.65)\n",
    "test_size=len(df1)-train_size\n",
    "train_data,test_data=df1[0:train_size,:],df1[train_size:len(df1),:1]"
   ]
  },
  {
   "cell_type": "code",
   "execution_count": 9,
   "metadata": {},
   "outputs": [],
   "source": [
    "def to_update_dataset(dataset, time_step=1):\n",
    "    dataX, dataY = [], []\n",
    "    for i in range(len(dataset)-time_step-1):\n",
    "        a = dataset[i:(i+time_step), 0]\n",
    "        dataX.append(a)\n",
    "        dataY.append(dataset[i + time_step, 0])\n",
    "    return np.array(dataX), np.array(dataY)"
   ]
  },
  {
   "cell_type": "code",
   "execution_count": 10,
   "metadata": {},
   "outputs": [],
   "source": [
    "time_step = 100\n",
    "X_train, y_train = to_update_dataset(train_data, time_step)\n",
    "X_test, ytest = to_update_dataset(test_data, time_step)"
   ]
  },
  {
   "cell_type": "code",
   "execution_count": 11,
   "metadata": {},
   "outputs": [],
   "source": [
    "# reshape input into such a manner that it can be taken by LSTM [samples, time steps, features]\n",
    "X_train =X_train.reshape(X_train.shape[0],X_train.shape[1] , 1)\n",
    "X_test = X_test.reshape(X_test.shape[0],X_test.shape[1] , 1)"
   ]
  },
  {
   "cell_type": "code",
   "execution_count": 12,
   "metadata": {},
   "outputs": [],
   "source": [
    "# Creating the LSTM model\n",
    "from tensorflow.keras.models import Sequential\n",
    "from tensorflow.keras.layers import Dense\n",
    "from tensorflow.keras.layers import LSTM"
   ]
  },
  {
   "cell_type": "code",
   "execution_count": 13,
   "metadata": {},
   "outputs": [],
   "source": [
    "model=Sequential()\n",
    "model.add(LSTM(50,return_sequences=True,input_shape=(100,1)))\n",
    "model.add(LSTM(50,return_sequences=True))\n",
    "model.add(LSTM(50))\n",
    "model.add(Dense(1))\n",
    "model.compile(loss='mean_squared_error',optimizer='adam')"
   ]
  },
  {
   "cell_type": "code",
   "execution_count": 14,
   "metadata": {},
   "outputs": [
    {
     "name": "stdout",
     "output_type": "stream",
     "text": [
      "Model: \"sequential\"\n",
      "_________________________________________________________________\n",
      "Layer (type)                 Output Shape              Param #   \n",
      "=================================================================\n",
      "lstm (LSTM)                  (None, 100, 50)           10400     \n",
      "_________________________________________________________________\n",
      "lstm_1 (LSTM)                (None, 100, 50)           20200     \n",
      "_________________________________________________________________\n",
      "lstm_2 (LSTM)                (None, 50)                20200     \n",
      "_________________________________________________________________\n",
      "dense (Dense)                (None, 1)                 51        \n",
      "=================================================================\n",
      "Total params: 50,851\n",
      "Trainable params: 50,851\n",
      "Non-trainable params: 0\n",
      "_________________________________________________________________\n"
     ]
    }
   ],
   "source": [
    "model.summary()"
   ]
  },
  {
   "cell_type": "code",
   "execution_count": 15,
   "metadata": {},
   "outputs": [
    {
     "name": "stdout",
     "output_type": "stream",
     "text": [
      "Epoch 1/5\n",
      "12/12 [==============================] - 14s 586ms/step - loss: 0.1103 - val_loss: 0.0186\n",
      "Epoch 2/5\n",
      "12/12 [==============================] - 4s 302ms/step - loss: 0.0140 - val_loss: 0.0166\n",
      "Epoch 3/5\n",
      "12/12 [==============================] - 4s 313ms/step - loss: 0.0075 - val_loss: 0.0160\n",
      "Epoch 4/5\n",
      "12/12 [==============================] - 4s 341ms/step - loss: 0.0051 - val_loss: 0.0143\n",
      "Epoch 5/5\n",
      "12/12 [==============================] - 4s 320ms/step - loss: 0.0032 - val_loss: 0.0123\n"
     ]
    },
    {
     "data": {
      "text/plain": [
       "<tensorflow.python.keras.callbacks.History at 0x1c35b578ac0>"
      ]
     },
     "execution_count": 15,
     "metadata": {},
     "output_type": "execute_result"
    }
   ],
   "source": [
    "model.fit(X_train,y_train,validation_data=(X_test,ytest),epochs=5,batch_size=64,verbose=1)"
   ]
  },
  {
   "cell_type": "code",
   "execution_count": 16,
   "metadata": {},
   "outputs": [],
   "source": [
    "import tensorflow as tf"
   ]
  },
  {
   "cell_type": "code",
   "execution_count": 17,
   "metadata": {},
   "outputs": [],
   "source": [
    "# Prediction\n",
    "train_prediction = model.predict(X_train)\n",
    "test_prediction = model.predict(X_test)"
   ]
  },
  {
   "cell_type": "code",
   "execution_count": 18,
   "metadata": {},
   "outputs": [],
   "source": [
    "# Transform output back to original form so it can be compared with actual values\n",
    "train_prediction=sc.inverse_transform(train_prediction)\n",
    "test_prediction=sc.inverse_transform(test_prediction)"
   ]
  },
  {
   "cell_type": "code",
   "execution_count": 19,
   "metadata": {},
   "outputs": [],
   "source": [
    "x_input=test_data[341:].reshape(1,-1)"
   ]
  },
  {
   "cell_type": "code",
   "execution_count": 20,
   "metadata": {},
   "outputs": [],
   "source": [
    "temp_input=list(x_input)\n",
    "temp_input=temp_input[0].tolist()"
   ]
  },
  {
   "cell_type": "code",
   "execution_count": 21,
   "metadata": {},
   "outputs": [
    {
     "name": "stdout",
     "output_type": "stream",
     "text": [
      "Output of all days from day 1 to day 30\n",
      "[[0.7111889719963074], [0.7131728529930115], [0.7151753902435303], [0.7168945670127869], [0.7181879281997681], [0.7190201878547668], [0.71942138671875], [0.7194536328315735], [0.7191910743713379], [0.7187061905860901], [0.7180630564689636], [0.7173134088516235], [0.7164971828460693], [0.715644121170044], [0.7147741317749023], [0.7139002680778503], [0.7130308151245117], [0.7121697664260864], [0.7113192677497864], [0.710479736328125], [0.7096506953239441], [0.7088316082954407], [0.7080216407775879], [0.707219660282135], [0.7064253091812134], [0.7056376934051514], [0.7048565745353699], [0.7040818333625793], [0.703312873840332], [0.7025495767593384]]\n"
     ]
    }
   ],
   "source": [
    "# Calculating prediction for next 30 days\n",
    "lst_output=[]\n",
    "n_steps=100\n",
    "i=0\n",
    "while(i<30):\n",
    "    \n",
    "    if(len(temp_input)>100):\n",
    "        x_input=np.array(temp_input[1:])\n",
    "        x_input=x_input.reshape(1,-1)\n",
    "        x_input = x_input.reshape((1, n_steps, 1))\n",
    "        y_predicted = model.predict(x_input, verbose=0)\n",
    "        temp_input.extend(y_predicted[0].tolist())\n",
    "        temp_input=temp_input[1:]\n",
    "        lst_output.extend(y_predicted.tolist())\n",
    "        i=i+1\n",
    "    else:\n",
    "        x_input = x_input.reshape((1, n_steps,1))\n",
    "        y_predicted = model.predict(x_input, verbose=0)\n",
    "#         print(yhat[0])\n",
    "        temp_input.extend(y_predicted[0].tolist())\n",
    "#         print(len(temp_input))\n",
    "        lst_output.extend(y_predicted.tolist())\n",
    "        i=i+1\n",
    "    \n",
    "print('Output of all days from day 1 to day 30')\n",
    "print(lst_output)"
   ]
  },
  {
   "cell_type": "code",
   "execution_count": 22,
   "metadata": {},
   "outputs": [],
   "source": [
    "d_new=np.arange(1,101)\n",
    "d_pred=np.arange(101,131)"
   ]
  },
  {
   "cell_type": "code",
   "execution_count": 23,
   "metadata": {},
   "outputs": [
    {
     "data": {
      "text/plain": [
       "[<matplotlib.lines.Line2D at 0x1c36335c9a0>]"
      ]
     },
     "execution_count": 23,
     "metadata": {},
     "output_type": "execute_result"
    },
    {
     "data": {
      "image/png": "[encoded data removed]",
      "text/plain": [
       "<Figure size 432x288 with 1 Axes>"
      ]
     },
     "metadata": {
      "needs_background": "light"
     },
     "output_type": "display_data"
    }
   ],
   "source": [
    "# plotting our predicted output from day 1 t day 30 using orange line\n",
    "plt.plot(d_new,sc.inverse_transform(df1[1158:]))\n",
    "plt.plot(d_pred,sc.inverse_transform(lst_output))"
   ]
  },
  {
   "cell_type": "code",
   "execution_count": 24,
   "metadata": {},
   "outputs": [
    {
     "data": {
      "text/plain": [
       "[<matplotlib.lines.Line2D at 0x1c36333d760>]"
      ]
     },
     "execution_count": 24,
     "metadata": {},
     "output_type": "execute_result"
    },
    {
     "data": {
      "image/png": "[encoded data removed]",
      "text/plain": [
       "<Figure size 432x288 with 1 Axes>"
      ]
     },
     "metadata": {
      "needs_background": "light"
     },
     "output_type": "display_data"
    }
   ],
   "source": [
    "# plotting actual output from the data that we have \n",
    "df3=df1.tolist()\n",
    "df3.extend(lst_output)\n",
    "plt.plot(df3[1200:])"
   ]
  }
 ],
 "metadata": {
  "kernelspec": {
   "display_name": "Python 3",
   "language": "python",
   "name": "python3"
  },
  "language_info": {
   "codemirror_mode": {
    "name": "ipython",
    "version": 3
   },
   "file_extension": ".py",
   "mimetype": "text/x-python",
   "name": "python",
   "nbconvert_exporter": "python",
   "pygments_lexer": "ipython3",
   "version": "3.8.5"
  }
 },
 "nbformat": 4,
 "nbformat_minor": 2
}
